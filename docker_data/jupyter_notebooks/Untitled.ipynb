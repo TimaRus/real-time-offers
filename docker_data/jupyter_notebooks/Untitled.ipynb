{
 "cells": [
  {
   "cell_type": "code",
   "execution_count": 1,
   "id": "ceb90515",
   "metadata": {},
   "outputs": [
    {
     "name": "stdout",
     "output_type": "stream",
     "text": [
      "Python 3.6.10\r\n"
     ]
    }
   ],
   "source": [
    "!python --version"
   ]
  },
  {
   "cell_type": "code",
   "execution_count": 2,
   "id": "5e83a26c",
   "metadata": {},
   "outputs": [
    {
     "name": "stdout",
     "output_type": "stream",
     "text": [
      "/opt/bitnami/python/bin/python\r\n"
     ]
    }
   ],
   "source": [
    "!which python"
   ]
  },
  {
   "cell_type": "code",
   "execution_count": 3,
   "id": "08fef186",
   "metadata": {},
   "outputs": [],
   "source": [
    "import findspark\n",
    "findspark.init()"
   ]
  },
  {
   "cell_type": "markdown",
   "id": "e6f7e7f9",
   "metadata": {},
   "source": [
    "### Запуск на spark-master"
   ]
  },
  {
   "cell_type": "code",
   "execution_count": 7,
   "id": "3eafef81",
   "metadata": {},
   "outputs": [],
   "source": [
    "from pyspark.sql import SparkSession\n",
    "\n",
    "spark = SparkSession.builder \\\n",
    "    .master(\"spark://spark-master:7077\") \\\n",
    "    .appName(\"MySparkApp\") \\\n",
    "    .getOrCreate()\n"
   ]
  },
  {
   "cell_type": "code",
   "execution_count": 8,
   "id": "3c17d5fd",
   "metadata": {},
   "outputs": [
    {
     "name": "stdout",
     "output_type": "stream",
     "text": [
      "+----+---+\n",
      "|Name|Age|\n",
      "+----+---+\n",
      "|John| 28|\n",
      "|Anna| 24|\n",
      "|Mike| 32|\n",
      "+----+---+\n",
      "\n"
     ]
    }
   ],
   "source": [
    "# Пример простого задания для выполнения на Spark\n",
    "data = [(\"John\", 28), (\"Anna\", 24), (\"Mike\", 32)]\n",
    "columns = [\"Name\", \"Age\"]\n",
    "\n",
    "# Создайте DataFrame\n",
    "df = spark.createDataFrame(data, columns)\n",
    "\n",
    "# Выведите данные\n",
    "df.show()\n"
   ]
  },
  {
   "cell_type": "code",
   "execution_count": 9,
   "id": "0800921b",
   "metadata": {},
   "outputs": [],
   "source": [
    "spark.stop()"
   ]
  },
  {
   "cell_type": "markdown",
   "id": "ea4b1ced",
   "metadata": {},
   "source": [
    "### Запуск Spark с Kafka"
   ]
  },
  {
   "cell_type": "code",
   "execution_count": 16,
   "id": "92a1d090",
   "metadata": {},
   "outputs": [
    {
     "name": "stdout",
     "output_type": "stream",
     "text": [
      "+-------+------------------------------------------------------------+-----------------------------------------------+\n",
      "|user_id|parent_profile                                              |child_profile                                  |\n",
      "+-------+------------------------------------------------------------+-----------------------------------------------+\n",
      "|11111  |[40, female, [USA, New York], [Google, Pixel 6, Android 12]]|[8, male, [Samsung, Galaxy S21, Android 13]]   |\n",
      "|12346  |[40, female, [USA, New York], [Google, Pixel 6, Android 12]]|[8, male, [Samsung, Galaxy S21, Android 12]]   |\n",
      "|12345  |[35, male, [Russia, Moscow], [Apple, iPhone 13, iOS 16.3]]  |[10, female, [Samsung, Galaxy A52, Android 11]]|\n",
      "+-------+------------------------------------------------------------+-----------------------------------------------+\n",
      "\n",
      "+-------+------------------------------------------------------------+--------------------------------------------+\n",
      "|user_id|parent_profile                                              |child_profile                               |\n",
      "+-------+------------------------------------------------------------+--------------------------------------------+\n",
      "|null   |null                                                        |null                                        |\n",
      "|22222  |[40, female, [USA, New York], [Google, Pixel 6, Android 12]]|[8, male, [Samsung, Galaxy S21, Android 12]]|\n",
      "+-------+------------------------------------------------------------+--------------------------------------------+\n",
      "\n",
      "+-------+--------------+-------------+\n",
      "|user_id|parent_profile|child_profile|\n",
      "+-------+--------------+-------------+\n",
      "|null   |null          |null         |\n",
      "+-------+--------------+-------------+\n",
      "\n",
      "+-------+------------------------------------------------------------+--------------------------------------------+\n",
      "|user_id|parent_profile                                              |child_profile                               |\n",
      "+-------+------------------------------------------------------------+--------------------------------------------+\n",
      "|null   |null                                                        |null                                        |\n",
      "|12346  |[40, female, [USA, New York], [Google, Pixel 6, Android 12]]|[8, male, [Samsung, Galaxy S21, Android 12]]|\n",
      "+-------+------------------------------------------------------------+--------------------------------------------+\n",
      "\n",
      "+-------+------------------------------------------------------------+--------------------------------------------+\n",
      "|user_id|parent_profile                                              |child_profile                               |\n",
      "+-------+------------------------------------------------------------+--------------------------------------------+\n",
      "|null   |null                                                        |null                                        |\n",
      "|22222  |[40, female, [USA, New York], [Google, Pixel 6, Android 12]]|[8, male, [Samsung, Galaxy S21, Android 12]]|\n",
      "|12346  |[40, female, [USA, New York], [Google, Pixel 6, Android 12]]|[8, male, [Samsung, Galaxy S21, Android 12]]|\n",
      "|null   |null                                                        |null                                        |\n",
      "+-------+------------------------------------------------------------+--------------------------------------------+\n",
      "\n",
      "+-------+------------------------------------------------------------+--------------------------------------------+\n",
      "|user_id|parent_profile                                              |child_profile                               |\n",
      "+-------+------------------------------------------------------------+--------------------------------------------+\n",
      "|22222  |[40, female, [USA, New York], [Google, Pixel 6, Android 12]]|[8, male, [Samsung, Galaxy S21, Android 12]]|\n",
      "|null   |null                                                        |null                                        |\n",
      "|11111  |[40, female, [USA, New York], [Google, Pixel 6, Android 12]]|[8, male, [Samsung, Galaxy S21, Android 13]]|\n",
      "+-------+------------------------------------------------------------+--------------------------------------------+\n",
      "\n",
      "+-------+------------------------------------------------------------+--------------------------------------------+\n",
      "|user_id|parent_profile                                              |child_profile                               |\n",
      "+-------+------------------------------------------------------------+--------------------------------------------+\n",
      "|11111  |[40, female, [USA, New York], [Google, Pixel 6, Android 12]]|[8, male, [Samsung, Galaxy S21, Android 13]]|\n",
      "+-------+------------------------------------------------------------+--------------------------------------------+\n",
      "\n"
     ]
    },
    {
     "ename": "KeyboardInterrupt",
     "evalue": "",
     "output_type": "error",
     "traceback": [
      "\u001b[0;31m---------------------------------------------------------------------------\u001b[0m",
      "\u001b[0;31mKeyboardInterrupt\u001b[0m                         Traceback (most recent call last)",
      "\u001b[0;32m<ipython-input-16-5ac103f79420>\u001b[0m in \u001b[0;36m<module>\u001b[0;34m\u001b[0m\n\u001b[1;32m     77\u001b[0m     \u001b[0;34m.\u001b[0m\u001b[0mstart\u001b[0m\u001b[0;34m(\u001b[0m\u001b[0;34m)\u001b[0m\u001b[0;34m\u001b[0m\u001b[0;34m\u001b[0m\u001b[0m\n\u001b[1;32m     78\u001b[0m \u001b[0;34m\u001b[0m\u001b[0m\n\u001b[0;32m---> 79\u001b[0;31m \u001b[0mquery\u001b[0m\u001b[0;34m.\u001b[0m\u001b[0mawaitTermination\u001b[0m\u001b[0;34m(\u001b[0m\u001b[0;34m)\u001b[0m\u001b[0;34m\u001b[0m\u001b[0;34m\u001b[0m\u001b[0m\n\u001b[0m",
      "\u001b[0;32m~opt/bitnami/spark/python/pyspark/sql/streaming.py\u001b[0m in \u001b[0;36mawaitTermination\u001b[0;34m(self, timeout)\u001b[0m\n\u001b[1;32m    101\u001b[0m             \u001b[0;32mreturn\u001b[0m \u001b[0mself\u001b[0m\u001b[0;34m.\u001b[0m\u001b[0m_jsq\u001b[0m\u001b[0;34m.\u001b[0m\u001b[0mawaitTermination\u001b[0m\u001b[0;34m(\u001b[0m\u001b[0mint\u001b[0m\u001b[0;34m(\u001b[0m\u001b[0mtimeout\u001b[0m \u001b[0;34m*\u001b[0m \u001b[0;36m1000\u001b[0m\u001b[0;34m)\u001b[0m\u001b[0;34m)\u001b[0m\u001b[0;34m\u001b[0m\u001b[0;34m\u001b[0m\u001b[0m\n\u001b[1;32m    102\u001b[0m         \u001b[0;32melse\u001b[0m\u001b[0;34m:\u001b[0m\u001b[0;34m\u001b[0m\u001b[0;34m\u001b[0m\u001b[0m\n\u001b[0;32m--> 103\u001b[0;31m             \u001b[0;32mreturn\u001b[0m \u001b[0mself\u001b[0m\u001b[0;34m.\u001b[0m\u001b[0m_jsq\u001b[0m\u001b[0;34m.\u001b[0m\u001b[0mawaitTermination\u001b[0m\u001b[0;34m(\u001b[0m\u001b[0;34m)\u001b[0m\u001b[0;34m\u001b[0m\u001b[0;34m\u001b[0m\u001b[0m\n\u001b[0m\u001b[1;32m    104\u001b[0m \u001b[0;34m\u001b[0m\u001b[0m\n\u001b[1;32m    105\u001b[0m     \u001b[0;34m@\u001b[0m\u001b[0mproperty\u001b[0m\u001b[0;34m\u001b[0m\u001b[0;34m\u001b[0m\u001b[0m\n",
      "\u001b[0;32m~opt/bitnami/spark/python/lib/py4j-0.10.7-src.zip/py4j/java_gateway.py\u001b[0m in \u001b[0;36m__call__\u001b[0;34m(self, *args)\u001b[0m\n\u001b[1;32m   1253\u001b[0m             \u001b[0mproto\u001b[0m\u001b[0;34m.\u001b[0m\u001b[0mEND_COMMAND_PART\u001b[0m\u001b[0;34m\u001b[0m\u001b[0;34m\u001b[0m\u001b[0m\n\u001b[1;32m   1254\u001b[0m \u001b[0;34m\u001b[0m\u001b[0m\n\u001b[0;32m-> 1255\u001b[0;31m         \u001b[0manswer\u001b[0m \u001b[0;34m=\u001b[0m \u001b[0mself\u001b[0m\u001b[0;34m.\u001b[0m\u001b[0mgateway_client\u001b[0m\u001b[0;34m.\u001b[0m\u001b[0msend_command\u001b[0m\u001b[0;34m(\u001b[0m\u001b[0mcommand\u001b[0m\u001b[0;34m)\u001b[0m\u001b[0;34m\u001b[0m\u001b[0;34m\u001b[0m\u001b[0m\n\u001b[0m\u001b[1;32m   1256\u001b[0m         return_value = get_return_value(\n\u001b[1;32m   1257\u001b[0m             answer, self.gateway_client, self.target_id, self.name)\n",
      "\u001b[0;32m~opt/bitnami/spark/python/lib/py4j-0.10.7-src.zip/py4j/java_gateway.py\u001b[0m in \u001b[0;36msend_command\u001b[0;34m(self, command, retry, binary)\u001b[0m\n\u001b[1;32m    983\u001b[0m         \u001b[0mconnection\u001b[0m \u001b[0;34m=\u001b[0m \u001b[0mself\u001b[0m\u001b[0;34m.\u001b[0m\u001b[0m_get_connection\u001b[0m\u001b[0;34m(\u001b[0m\u001b[0;34m)\u001b[0m\u001b[0;34m\u001b[0m\u001b[0;34m\u001b[0m\u001b[0m\n\u001b[1;32m    984\u001b[0m         \u001b[0;32mtry\u001b[0m\u001b[0;34m:\u001b[0m\u001b[0;34m\u001b[0m\u001b[0;34m\u001b[0m\u001b[0m\n\u001b[0;32m--> 985\u001b[0;31m             \u001b[0mresponse\u001b[0m \u001b[0;34m=\u001b[0m \u001b[0mconnection\u001b[0m\u001b[0;34m.\u001b[0m\u001b[0msend_command\u001b[0m\u001b[0;34m(\u001b[0m\u001b[0mcommand\u001b[0m\u001b[0;34m)\u001b[0m\u001b[0;34m\u001b[0m\u001b[0;34m\u001b[0m\u001b[0m\n\u001b[0m\u001b[1;32m    986\u001b[0m             \u001b[0;32mif\u001b[0m \u001b[0mbinary\u001b[0m\u001b[0;34m:\u001b[0m\u001b[0;34m\u001b[0m\u001b[0;34m\u001b[0m\u001b[0m\n\u001b[1;32m    987\u001b[0m                 \u001b[0;32mreturn\u001b[0m \u001b[0mresponse\u001b[0m\u001b[0;34m,\u001b[0m \u001b[0mself\u001b[0m\u001b[0;34m.\u001b[0m\u001b[0m_create_connection_guard\u001b[0m\u001b[0;34m(\u001b[0m\u001b[0mconnection\u001b[0m\u001b[0;34m)\u001b[0m\u001b[0;34m\u001b[0m\u001b[0;34m\u001b[0m\u001b[0m\n",
      "\u001b[0;32m~opt/bitnami/spark/python/lib/py4j-0.10.7-src.zip/py4j/java_gateway.py\u001b[0m in \u001b[0;36msend_command\u001b[0;34m(self, command)\u001b[0m\n\u001b[1;32m   1150\u001b[0m \u001b[0;34m\u001b[0m\u001b[0m\n\u001b[1;32m   1151\u001b[0m         \u001b[0;32mtry\u001b[0m\u001b[0;34m:\u001b[0m\u001b[0;34m\u001b[0m\u001b[0;34m\u001b[0m\u001b[0m\n\u001b[0;32m-> 1152\u001b[0;31m             \u001b[0manswer\u001b[0m \u001b[0;34m=\u001b[0m \u001b[0msmart_decode\u001b[0m\u001b[0;34m(\u001b[0m\u001b[0mself\u001b[0m\u001b[0;34m.\u001b[0m\u001b[0mstream\u001b[0m\u001b[0;34m.\u001b[0m\u001b[0mreadline\u001b[0m\u001b[0;34m(\u001b[0m\u001b[0;34m)\u001b[0m\u001b[0;34m[\u001b[0m\u001b[0;34m:\u001b[0m\u001b[0;34m-\u001b[0m\u001b[0;36m1\u001b[0m\u001b[0;34m]\u001b[0m\u001b[0;34m)\u001b[0m\u001b[0;34m\u001b[0m\u001b[0;34m\u001b[0m\u001b[0m\n\u001b[0m\u001b[1;32m   1153\u001b[0m             \u001b[0mlogger\u001b[0m\u001b[0;34m.\u001b[0m\u001b[0mdebug\u001b[0m\u001b[0;34m(\u001b[0m\u001b[0;34m\"Answer received: {0}\"\u001b[0m\u001b[0;34m.\u001b[0m\u001b[0mformat\u001b[0m\u001b[0;34m(\u001b[0m\u001b[0manswer\u001b[0m\u001b[0;34m)\u001b[0m\u001b[0;34m)\u001b[0m\u001b[0;34m\u001b[0m\u001b[0;34m\u001b[0m\u001b[0m\n\u001b[1;32m   1154\u001b[0m             \u001b[0;32mif\u001b[0m \u001b[0manswer\u001b[0m\u001b[0;34m.\u001b[0m\u001b[0mstartswith\u001b[0m\u001b[0;34m(\u001b[0m\u001b[0mproto\u001b[0m\u001b[0;34m.\u001b[0m\u001b[0mRETURN_MESSAGE\u001b[0m\u001b[0;34m)\u001b[0m\u001b[0;34m:\u001b[0m\u001b[0;34m\u001b[0m\u001b[0;34m\u001b[0m\u001b[0m\n",
      "\u001b[0;32m~opt/bitnami/python/lib/python3.6/socket.py\u001b[0m in \u001b[0;36mreadinto\u001b[0;34m(self, b)\u001b[0m\n\u001b[1;32m    584\u001b[0m         \u001b[0;32mwhile\u001b[0m \u001b[0;32mTrue\u001b[0m\u001b[0;34m:\u001b[0m\u001b[0;34m\u001b[0m\u001b[0;34m\u001b[0m\u001b[0m\n\u001b[1;32m    585\u001b[0m             \u001b[0;32mtry\u001b[0m\u001b[0;34m:\u001b[0m\u001b[0;34m\u001b[0m\u001b[0;34m\u001b[0m\u001b[0m\n\u001b[0;32m--> 586\u001b[0;31m                 \u001b[0;32mreturn\u001b[0m \u001b[0mself\u001b[0m\u001b[0;34m.\u001b[0m\u001b[0m_sock\u001b[0m\u001b[0;34m.\u001b[0m\u001b[0mrecv_into\u001b[0m\u001b[0;34m(\u001b[0m\u001b[0mb\u001b[0m\u001b[0;34m)\u001b[0m\u001b[0;34m\u001b[0m\u001b[0;34m\u001b[0m\u001b[0m\n\u001b[0m\u001b[1;32m    587\u001b[0m             \u001b[0;32mexcept\u001b[0m \u001b[0mtimeout\u001b[0m\u001b[0;34m:\u001b[0m\u001b[0;34m\u001b[0m\u001b[0;34m\u001b[0m\u001b[0m\n\u001b[1;32m    588\u001b[0m                 \u001b[0mself\u001b[0m\u001b[0;34m.\u001b[0m\u001b[0m_timeout_occurred\u001b[0m \u001b[0;34m=\u001b[0m \u001b[0;32mTrue\u001b[0m\u001b[0;34m\u001b[0m\u001b[0;34m\u001b[0m\u001b[0m\n",
      "\u001b[0;31mKeyboardInterrupt\u001b[0m: "
     ]
    }
   ],
   "source": [
    "from pyspark.sql import SparkSession\n",
    "from pyspark.sql.functions import from_json, col\n",
    "from pyspark.sql.types import StructType, StructField, StringType, IntegerType\n",
    "\n",
    "# Создаем SparkSession\n",
    "spark = SparkSession.builder \\\n",
    "    .master(\"spark://spark-master:7077\") \\\n",
    "    .appName(\"KafkaTest\") \\\n",
    "    .getOrCreate()\n",
    "\n",
    "# Схема для вложенного поля \"value\"\n",
    "value_schema = StructType([\n",
    "    StructField(\"schema\", StructType([\n",
    "        StructField(\"type\", StringType(), True),\n",
    "        StructField(\"optional\", StringType(), True)\n",
    "    ]), True),\n",
    "    StructField(\"payload\", StringType(), True)\n",
    "])\n",
    "\n",
    "# Чтение с самого начала топика\n",
    "df = spark.readStream \\\n",
    "    .format(\"kafka\") \\\n",
    "    .option(\"kafka.bootstrap.servers\", \"kafka-cluster:9092\") \\\n",
    "    .option(\"subscribe\", \"streaming-user-registration\") \\\n",
    "    .option(\"startingOffsets\", \"earliest\") \\\n",
    "    .option(\"maxOffsetsPerTrigger\", \"1\") \\\n",
    "    .load()\n",
    "\n",
    "# Преобразуем значение поля \"value\" в строку\n",
    "df = df.selectExpr(\"CAST(value AS STRING) as json_value\")\n",
    "\n",
    "# Извлекаем вложенный JSON из поля \"value\"\n",
    "df_parsed = df.withColumn(\"parsed_value\", from_json(col(\"json_value\"), value_schema))\n",
    "\n",
    "# Извлекаем поле \"payload\", которое содержит нужные данные\n",
    "df_payload = df_parsed.select(\"parsed_value.payload\")\n",
    "\n",
    "# Определяем схему для поля \"payload\"\n",
    "payload_schema = StructType([\n",
    "    StructField(\"user_id\", StringType(), True),\n",
    "    StructField(\"parent_profile\", StructType([\n",
    "        StructField(\"age\", IntegerType(), True),\n",
    "        StructField(\"gender\", StringType(), True),\n",
    "        StructField(\"location\", StructType([\n",
    "            StructField(\"country\", StringType(), True),\n",
    "            StructField(\"city\", StringType(), True)\n",
    "        ]), True),\n",
    "        StructField(\"device\", StructType([\n",
    "            StructField(\"brand\", StringType(), True),\n",
    "            StructField(\"model\", StringType(), True),\n",
    "            StructField(\"os_version\", StringType(), True)\n",
    "        ]), True)\n",
    "    ]), True),\n",
    "    StructField(\"child_profile\", StructType([\n",
    "        StructField(\"age\", IntegerType(), True),\n",
    "        StructField(\"gender\", StringType(), True),\n",
    "        StructField(\"device\", StructType([\n",
    "            StructField(\"brand\", StringType(), True),\n",
    "            StructField(\"model\", StringType(), True),\n",
    "            StructField(\"os_version\", StringType(), True)\n",
    "        ]), True)\n",
    "    ]), True)\n",
    "])\n",
    "\n",
    "# Преобразуем поле \"payload\" в структурированный формат\n",
    "df_final = df_payload.withColumn(\"payload_data\", from_json(col(\"payload\"), payload_schema)) \\\n",
    "    .select(\"payload_data.*\")\n",
    "\n",
    "\n",
    "# Stream\n",
    "#query = df_final.writeStream \\\n",
    "#    .outputMode(\"append\") \\\n",
    "#    .format(\"console\") \\\n",
    "#    .option(\"truncate\", \"false\") \\\n",
    "#    .start()\n",
    "\n",
    "# Функция для обработки каждого батча\n",
    "def process_batch(df, epoch_id):\n",
    "    df.show(truncate=False)  # Показываем батч\n",
    "\n",
    "# Запускаем потоковую обработку с foreachBatch\n",
    "query = df_final.writeStream \\\n",
    "    .outputMode(\"append\") \\\n",
    "    .foreachBatch(process_batch) \\\n",
    "    .start()\n",
    "\n",
    "query.awaitTermination()\n"
   ]
  },
  {
   "cell_type": "code",
   "execution_count": 17,
   "id": "58031448",
   "metadata": {},
   "outputs": [],
   "source": [
    "spark.stop()"
   ]
  },
  {
   "cell_type": "code",
   "execution_count": null,
   "id": "b26d5dcf",
   "metadata": {},
   "outputs": [],
   "source": []
  },
  {
   "cell_type": "code",
   "execution_count": null,
   "id": "d0d5de80",
   "metadata": {},
   "outputs": [],
   "source": []
  }
 ],
 "metadata": {
  "kernelspec": {
   "display_name": "Python 3",
   "language": "python",
   "name": "python3"
  },
  "language_info": {
   "codemirror_mode": {
    "name": "ipython",
    "version": 3
   },
   "file_extension": ".py",
   "mimetype": "text/x-python",
   "name": "python",
   "nbconvert_exporter": "python",
   "pygments_lexer": "ipython3",
   "version": "3.6.10"
  }
 },
 "nbformat": 4,
 "nbformat_minor": 5
}
