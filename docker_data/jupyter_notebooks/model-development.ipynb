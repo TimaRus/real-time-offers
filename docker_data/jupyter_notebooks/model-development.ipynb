{
 "cells": [
  {
   "cell_type": "markdown",
   "id": "25b15d5e",
   "metadata": {},
   "source": [
    "### Step 1: Initialize Spark Session"
   ]
  },
  {
   "cell_type": "code",
   "execution_count": 1,
   "id": "2358c18d",
   "metadata": {},
   "outputs": [],
   "source": [
    "import findspark\n",
    "findspark.init()"
   ]
  },
  {
   "cell_type": "code",
   "execution_count": 2,
   "id": "50399858",
   "metadata": {},
   "outputs": [
    {
     "data": {
      "text/html": [
       "\n",
       "            <div>\n",
       "                <p><b>SparkSession - in-memory</b></p>\n",
       "                \n",
       "        <div>\n",
       "            <p><b>SparkContext</b></p>\n",
       "\n",
       "            <p><a href=\"http://5e9c228bfc41:4040\">Spark UI</a></p>\n",
       "\n",
       "            <dl>\n",
       "              <dt>Version</dt>\n",
       "                <dd><code>v2.4.6</code></dd>\n",
       "              <dt>Master</dt>\n",
       "                <dd><code>spark://spark-master:7077</code></dd>\n",
       "              <dt>AppName</dt>\n",
       "                <dd><code>Personalized_Tariff_Creation</code></dd>\n",
       "            </dl>\n",
       "        </div>\n",
       "        \n",
       "            </div>\n",
       "        "
      ],
      "text/plain": [
       "<pyspark.sql.session.SparkSession at 0x7f3170f049e8>"
      ]
     },
     "execution_count": 2,
     "metadata": {},
     "output_type": "execute_result"
    }
   ],
   "source": [
    "from pyspark.sql import SparkSession\n",
    "from pyspark.sql.functions import col, lit, when, concat, concat_ws\n",
    "\n",
    "# Инициализация Spark Session\n",
    "spark = SparkSession.builder \\\n",
    "    .master(\"spark://spark-master:7077\") \\\n",
    "    .appName(\"Personalized_Tariff_Creation\") \\\n",
    "    .getOrCreate()\n",
    "\n",
    "spark"
   ]
  },
  {
   "cell_type": "markdown",
   "id": "8c9672c3",
   "metadata": {},
   "source": [
    "### Step 2: Data understanding"
   ]
  },
  {
   "cell_type": "code",
   "execution_count": 3,
   "id": "1e00a7ff",
   "metadata": {},
   "outputs": [],
   "source": [
    "# Загрузка датасета\n",
    "file_path = \"file:///home/jovyan/work/user_experience_data.csv\"\n",
    "data = spark.read.csv(file_path, header=True, inferSchema=True)"
   ]
  },
  {
   "cell_type": "code",
   "execution_count": 4,
   "id": "e5adeda2",
   "metadata": {},
   "outputs": [
    {
     "name": "stdout",
     "output_type": "stream",
     "text": [
      "-RECORD 0--------------------------------\n",
      " ip_country                | ro          \n",
      " device_country            | es          \n",
      " device_language           | es          \n",
      " platform                  | Android     \n",
      " platform_store            | Google Play \n",
      " smartphone_brand          | redmi       \n",
      " is_organic                | 0           \n",
      " zones_place_create_cnt    | 0           \n",
      " open_function_history_cnt | 0           \n",
      " listen_live_cnt           | 26          \n",
      " noise_sent_cnt            | 0           \n",
      " sos_push_cnt              | 0           \n",
      " invite_second_parent_cnt  | 8           \n",
      " subscription_days_amount  | 60          \n",
      " total_payments_usd        | 8           \n",
      " child_age                 | null        \n",
      " child_smartphone_brand    | null        \n",
      "only showing top 1 row\n",
      "\n"
     ]
    }
   ],
   "source": [
    "# Выводим первую строку\n",
    "data.show(1, vertical=True)"
   ]
  },
  {
   "cell_type": "code",
   "execution_count": 5,
   "id": "1d4180db",
   "metadata": {},
   "outputs": [
    {
     "name": "stdout",
     "output_type": "stream",
     "text": [
      "root\n",
      " |-- ip_country: string (nullable = true)\n",
      " |-- device_country: string (nullable = true)\n",
      " |-- device_language: string (nullable = true)\n",
      " |-- platform: string (nullable = true)\n",
      " |-- platform_store: string (nullable = true)\n",
      " |-- smartphone_brand: string (nullable = true)\n",
      " |-- is_organic: integer (nullable = true)\n",
      " |-- zones_place_create_cnt: integer (nullable = true)\n",
      " |-- open_function_history_cnt: integer (nullable = true)\n",
      " |-- listen_live_cnt: integer (nullable = true)\n",
      " |-- noise_sent_cnt: integer (nullable = true)\n",
      " |-- sos_push_cnt: integer (nullable = true)\n",
      " |-- invite_second_parent_cnt: integer (nullable = true)\n",
      " |-- subscription_days_amount: integer (nullable = true)\n",
      " |-- total_payments_usd: integer (nullable = true)\n",
      " |-- child_age: integer (nullable = true)\n",
      " |-- child_smartphone_brand: string (nullable = true)\n",
      "\n"
     ]
    }
   ],
   "source": [
    "data.printSchema()"
   ]
  },
  {
   "cell_type": "code",
   "execution_count": 6,
   "id": "bf507558",
   "metadata": {},
   "outputs": [
    {
     "name": "stdout",
     "output_type": "stream",
     "text": [
      "-RECORD 0-------------------------\n",
      " ip_country                | 144  \n",
      " device_country            | 23   \n",
      " device_language           | 22   \n",
      " platform                  | 0    \n",
      " platform_store            | 0    \n",
      " smartphone_brand          | 44   \n",
      " is_organic                | 0    \n",
      " zones_place_create_cnt    | 0    \n",
      " open_function_history_cnt | 0    \n",
      " listen_live_cnt           | 0    \n",
      " noise_sent_cnt            | 0    \n",
      " sos_push_cnt              | 0    \n",
      " invite_second_parent_cnt  | 0    \n",
      " subscription_days_amount  | 0    \n",
      " total_payments_usd        | 0    \n",
      " child_age                 | 1098 \n",
      " child_smartphone_brand    | 1142 \n",
      "\n"
     ]
    }
   ],
   "source": [
    "# Проверяем значения на null\n",
    "data.select([count(when(col(c).isNull(), c)).alias(c) for c in data.columns]).show(1, vertical=True)"
   ]
  },
  {
   "cell_type": "code",
   "execution_count": 7,
   "id": "430ed66b",
   "metadata": {
    "scrolled": true
   },
   "outputs": [
    {
     "name": "stdout",
     "output_type": "stream",
     "text": [
      "-RECORD 0--------------------------\n",
      " summary                   | count \n",
      " ip_country                | 7348  \n",
      " device_country            | 7469  \n",
      " device_language           | 7470  \n",
      " platform                  | 7492  \n",
      " platform_store            | 7492  \n",
      " smartphone_brand          | 7448  \n",
      " is_organic                | 7492  \n",
      " zones_place_create_cnt    | 7492  \n",
      " open_function_history_cnt | 7492  \n",
      " listen_live_cnt           | 7492  \n",
      " noise_sent_cnt            | 7492  \n",
      " sos_push_cnt              | 7492  \n",
      " invite_second_parent_cnt  | 7492  \n",
      " subscription_days_amount  | 7492  \n",
      " total_payments_usd        | 7492  \n",
      " child_age                 | 6394  \n",
      " child_smartphone_brand    | 6350  \n",
      "only showing top 1 row\n",
      "\n"
     ]
    }
   ],
   "source": [
    "# Общая статистика\n",
    "data.describe().show(1, vertical=True)"
   ]
  },
  {
   "cell_type": "markdown",
   "id": "064859ce",
   "metadata": {},
   "source": [
    "### Step 3: Data cleaning and feature engineering"
   ]
  },
  {
   "cell_type": "code",
   "execution_count": 8,
   "id": "3ddc4719",
   "metadata": {},
   "outputs": [],
   "source": [
    "# Заполнение пропущенных значений\n",
    "numerical_columns = [col[0] for col in data.dtypes if col[1] in ['int', 'double']]\n",
    "categorical_columns = [col[0] for col in data.dtypes if col[1] == 'string']\n",
    "\n",
    "# Заполнение числовых колонок средним значением\n",
    "for column in numerical_columns:\n",
    "    mean_value = data.select(avg(col(column))).first()[0]\n",
    "    data = data.fillna({column: mean_value})\n",
    "\n",
    "# Заполнение категориальных колонок значением \"Unknown\"\n",
    "data = data.fillna({col: \"Unknown\" for col in categorical_columns})"
   ]
  },
  {
   "cell_type": "markdown",
   "id": "d6346cea",
   "metadata": {},
   "source": [
    "### Step 4: Feature engineering"
   ]
  },
  {
   "cell_type": "code",
   "execution_count": 10,
   "id": "4f0a4cca",
   "metadata": {},
   "outputs": [],
   "source": [
    "from pyspark.ml.feature import StringIndexer, OneHotEncoder, VectorAssembler, StandardScaler\n",
    "\n",
    "# Индексация и кодирование категориальных признаков\n",
    "categorical_indexers = [\n",
    "    StringIndexer(inputCol=col, outputCol=f\"{col}_index\", handleInvalid=\"keep\") \n",
    "    for col in categorical_columns]\n",
    "\n",
    "categorical_encoders = [\n",
    "    OneHotEncoder(inputCol=f\"{col}_index\", outputCol=f\"{col}_vec\") \n",
    "    for col in categorical_columns]\n",
    "\n",
    "# Объединение признаков для обучения\n",
    "training_feature_columns = [f\"{col}_vec\" for col in categorical_columns] + numerical_columns\n",
    "assembler_training = VectorAssembler(inputCols=training_feature_columns, outputCol=\"features\")\n",
    "scaler_training = StandardScaler(inputCol=\"features\", outputCol=\"scaled_features\")\n",
    "\n",
    "# Убираем целевые переменные из признаков\n",
    "feature_columns = [f\"{col}_vec\" for col in categorical_columns if col not in [\n",
    "    \"zones_place_create_cnt\", \"noise_sent_cnt\", \"listen_live_cnt\", \"open_function_history_cnt\",\n",
    "    \"sos_push_cnt\", \"invite_second_parent_cnt\"]\n",
    "                  ] + [\"is_organic\", \"child_age\"]\n",
    "assembler = VectorAssembler(inputCols=feature_columns, outputCol=\"features\")\n",
    "scaler = StandardScaler(inputCol=\"features\", outputCol=\"scaled_features\")"
   ]
  },
  {
   "cell_type": "code",
   "execution_count": 9,
   "id": "d2edbcd8",
   "metadata": {
    "collapsed": true
   },
   "outputs": [
    {
     "name": "stdout",
     "output_type": "stream",
     "text": [
      "Collecting numpy\n",
      "  Downloading numpy-1.19.5-cp36-cp36m-manylinux2010_x86_64.whl (14.8 MB)\n",
      "     |################################| 14.8 MB 996 kB/s            \n",
      "\u001b[?25hInstalling collected packages: numpy\n",
      "Successfully installed numpy-1.19.5\n",
      "\u001b[33mWARNING: Running pip as the 'root' user can result in broken permissions and conflicting behaviour with the system package manager. It is recommended to use a virtual environment instead: https://pip.pypa.io/warnings/venv\u001b[0m\n",
      "Note: you may need to restart the kernel to use updated packages.\n"
     ]
    }
   ],
   "source": [
    "pip install numpy"
   ]
  },
  {
   "cell_type": "markdown",
   "id": "5ac8dea2",
   "metadata": {},
   "source": [
    "### Step 5: Multi-output modeling"
   ]
  },
  {
   "cell_type": "code",
   "execution_count": 11,
   "id": "d8c924d9",
   "metadata": {
    "scrolled": true
   },
   "outputs": [
    {
     "name": "stdout",
     "output_type": "stream",
     "text": [
      "+------------+---------------------+---------------------+------------------------+-------------------+-----------------------------+\n",
      "|function_map|function_ignore_sound|function_listen_sound|function_detailed_routes|function_sos_signal|function_invite_second_parent|\n",
      "+------------+---------------------+---------------------+------------------------+-------------------+-----------------------------+\n",
      "|           0|                    0|                    1|                       0|                  0|                            1|\n",
      "+------------+---------------------+---------------------+------------------------+-------------------+-----------------------------+\n",
      "only showing top 1 row\n",
      "\n"
     ]
    }
   ],
   "source": [
    "from pyspark.sql.functions import col, when\n",
    "\n",
    "# Целевые переменные\n",
    "function_mapping = {\n",
    "    \"function_map\": \"zones_place_create_cnt\",\n",
    "    \"function_ignore_sound\": \"noise_sent_cnt\",\n",
    "    \"function_listen_sound\": \"listen_live_cnt\",\n",
    "    \"function_detailed_routes\": \"open_function_history_cnt\",\n",
    "    \"function_sos_signal\": \"sos_push_cnt\",\n",
    "    \"function_invite_second_parent\": \"invite_second_parent_cnt\"\n",
    "}\n",
    "\n",
    "for function, column in function_mapping.items():\n",
    "    data = data.withColumn(function, when(col(column) > 0, 1).otherwise(0))\n",
    "    \n",
    "# Проверка результата\n",
    "data.select(list(function_mapping.keys())).show(1)"
   ]
  },
  {
   "cell_type": "markdown",
   "id": "cd744797",
   "metadata": {},
   "source": [
    "### Step 6: Train-test split"
   ]
  },
  {
   "cell_type": "code",
   "execution_count": 12,
   "id": "631139d1",
   "metadata": {},
   "outputs": [],
   "source": [
    "# Разделение на тренировочные и тестовые данные\n",
    "train_data, test_data = data.randomSplit([0.8, 0.2], seed=42)"
   ]
  },
  {
   "cell_type": "markdown",
   "id": "d07f1b04",
   "metadata": {},
   "source": [
    "### Step 7: Define models for multi-output prediction"
   ]
  },
  {
   "cell_type": "code",
   "execution_count": 18,
   "id": "c410070b",
   "metadata": {},
   "outputs": [],
   "source": [
    "# Модели для регрессии (цена и срок подписки)\n",
    "cost_model = GBTRegressor(\n",
    "    featuresCol=\"scaled_features\",\n",
    "    labelCol=\"total_payments_usd\",\n",
    "    predictionCol=\"predicted_cost\",\n",
    "    maxIter=50,  # Количество итераций\n",
    "    maxDepth=6,  # Глубина дерева\n",
    "    stepSize=0.1,  # Шаг обучения\n",
    "    subsamplingRate=0.8,  # Подвыборка данных\n",
    "    minInstancesPerNode=5,  # Минимальное количество экземпляров на узел\n",
    "    minInfoGain=0.1,  # Минимальное улучшение информации для разделения узлов\n",
    "    lossType=\"squaredError\",  # Тип функции потерь\n",
    "    maxBins=32  # Количество бинов\n",
    ")\n",
    "\n",
    "subscription_model = GBTRegressor(\n",
    "    featuresCol=\"scaled_features\",\n",
    "    labelCol=\"subscription_days_amount\",\n",
    "    predictionCol=\"predicted_subscription\",\n",
    "    maxIter=50,\n",
    "    maxDepth=6,\n",
    "    stepSize=0.1,\n",
    "    subsamplingRate=0.8,\n",
    "    minInstancesPerNode=5,\n",
    "    minInfoGain=0.1,\n",
    "    lossType=\"squaredError\",\n",
    "    maxBins=32\n",
    ")\n",
    "\n",
    "# Модели для классификации (функции тарифа)\n",
    "function_classifiers = [\n",
    "    GBTClassifier(  # Для классификации используем GBTClassifier\n",
    "        featuresCol=\"scaled_features\",\n",
    "        labelCol=function,\n",
    "        predictionCol=f\"predicted_{function}\",\n",
    "        maxIter=50,\n",
    "        maxDepth=5,  # Для классификации может быть достаточно меньшей глубины\n",
    "        stepSize=0.1,\n",
    "        subsamplingRate=0.8,\n",
    "        minInstancesPerNode=5,\n",
    "        minInfoGain=0.1,\n",
    "        lossType=\"logLoss\",  # Для классификации используется logLoss\n",
    "        maxBins=32\n",
    "    ) for function in function_mapping.keys()\n",
    "]"
   ]
  },
  {
   "cell_type": "code",
   "execution_count": null,
   "id": "c3cee2cd",
   "metadata": {},
   "outputs": [],
   "source": [
    "from pyspark.ml import Pipeline\n",
    "\n",
    "# Pipeline\n",
    "pipeline = Pipeline(stages=categorical_indexers + categorical_encoders +\n",
    "                    [assembler, scaler, cost_model, subscription_model] + function_classifiers)"
   ]
  },
  {
   "cell_type": "markdown",
   "id": "5225c8df",
   "metadata": {},
   "source": [
    "### Step 8: Train the pipeline"
   ]
  },
  {
   "cell_type": "code",
   "execution_count": 19,
   "id": "1579ea2e",
   "metadata": {},
   "outputs": [],
   "source": [
    "# Обучение модели\n",
    "pipeline_model = pipeline.fit(train_data)"
   ]
  },
  {
   "cell_type": "markdown",
   "id": "fd127f46",
   "metadata": {},
   "source": [
    "### Step 9: Evaluate the models"
   ]
  },
  {
   "cell_type": "code",
   "execution_count": 20,
   "id": "356e64d9",
   "metadata": {},
   "outputs": [],
   "source": [
    "# Предсказания\n",
    "predictions = pipeline_model.transform(test_data)"
   ]
  },
  {
   "cell_type": "code",
   "execution_count": 4,
   "id": "61798af8",
   "metadata": {},
   "outputs": [
    {
     "name": "stdout",
     "output_type": "stream",
     "text": [
      "\n",
      "RMSE для предсказания стоимости: 6.171183161774798\n",
      "RMSE для предсказания срока подписки: 12.403555036988\n",
      "AUC для function_map: 0.8691419164334303\n",
      "AUC для function_ignore_sound: 0.8117484138495623\n",
      "AUC для function_listen_sound: 0.9481908580965188\n",
      "AUC для function_detailed_routes: 0.9083479327259986\n",
      "AUC для function_sos_signal: 0.8966833765160904\n",
      "AUC для function_invite_second_parent: 0.878556481767349\n",
      "\n"
     ]
    }
   ],
   "source": [
    "from pyspark.ml.evaluation import RegressionEvaluator, BinaryClassificationEvaluator\n",
    "\n",
    "# Оценка моделей\n",
    "# Оценка регрессии\n",
    "cost_evaluator = RegressionEvaluator(labelCol=\"total_payments_usd\", predictionCol=\"predicted_cost\", metricName=\"rmse\")\n",
    "subscription_evaluator = RegressionEvaluator(labelCol=\"subscription_days_amount\",\n",
    "                                             predictionCol=\"predicted_subscription\", metricName=\"rmse\")\n",
    "rmse_cost = cost_evaluator.evaluate(predictions)\n",
    "rmse_subscription = subscription_evaluator.evaluate(predictions)\n",
    "\n",
    "print(f\"RMSE для предсказания стоимости: {rmse_cost}\")\n",
    "print(f\"RMSE для предсказания срока подписки: {rmse_subscription}\")\n",
    "\n",
    "# Оценка классификации\n",
    "for function in function_mapping.keys():\n",
    "    evaluator = BinaryClassificationEvaluator(labelCol=function, rawPredictionCol=f\"predicted_{function}\",\n",
    "                                              metricName=\"areaUnderROC\")\n",
    "    auc = evaluator.evaluate(predictions)\n",
    "    print(f\"AUC для {function}: {auc}\")"
   ]
  },
  {
   "cell_type": "markdown",
   "id": "158023b4",
   "metadata": {},
   "source": [
    "### Step 10: Save the model for deployment"
   ]
  },
  {
   "cell_type": "code",
   "execution_count": 22,
   "id": "c9feaec2",
   "metadata": {},
   "outputs": [],
   "source": [
    "# Сохранение модели\n",
    "pipeline_model.write().overwrite().save(\"enhanced_tariff_model\")"
   ]
  },
  {
   "cell_type": "markdown",
   "id": "7d1a3f43",
   "metadata": {},
   "source": [
    "### Step 11: Model check and real-time data processing simulation"
   ]
  },
  {
   "cell_type": "code",
   "execution_count": 23,
   "id": "c649b66d",
   "metadata": {},
   "outputs": [],
   "source": [
    "from pyspark.ml.pipeline import PipelineModel\n",
    "\n",
    "# Загрузка сохраненной модели\n",
    "deployed_model = PipelineModel.load(\"enhanced_tariff_model\")"
   ]
  },
  {
   "cell_type": "code",
   "execution_count": 24,
   "id": "547913ee",
   "metadata": {},
   "outputs": [
    {
     "name": "stderr",
     "output_type": "stream",
     "text": [
      "/opt/bitnami/spark/python/pyspark/sql/session.py:346: UserWarning: inferring schema from dict is deprecated,please use pyspark.sql.Row instead\n",
      "  warnings.warn(\"inferring schema from dict is deprecated,\"\n"
     ]
    }
   ],
   "source": [
    "# Симуляция входящих данных\n",
    "real_time_data = spark.createDataFrame([\n",
    "    {\n",
    "        \"id\": 12345,\n",
    "        \"ip_country\": \"ru\",\n",
    "        \"device_country\": \"ru\",\n",
    "        \"device_language\": \"ru\",\n",
    "        \"platform\": \"iOS\",\n",
    "        \"platform_store\": \"App Store\",\n",
    "        \"smartphone_brand\": \"iphone\",\n",
    "        \"is_organic\": 1,\n",
    "        \"child_age\": 13,\n",
    "        \"child_smartphone_brand\": \"realme\"\n",
    "    }\n",
    "])"
   ]
  },
  {
   "cell_type": "code",
   "execution_count": 33,
   "id": "e323f9aa",
   "metadata": {},
   "outputs": [],
   "source": [
    "# Обработка данных вручную для реального времени\n",
    "processed_data = real_time_data\n",
    "for stage in deployed_model.stages:\n",
    "    processed_data = stage.transform(processed_data)"
   ]
  },
  {
   "cell_type": "code",
   "execution_count": 36,
   "id": "9f2367b0",
   "metadata": {},
   "outputs": [
    {
     "name": "stdout",
     "output_type": "stream",
     "text": [
      "-RECORD 0---------------------------------------------------------------------------------------------------------------------------------------------------------------------------------------------------------------------------------------------------\n",
      " child_age                               | 13                                                                                                                                                                                                               \n",
      " child_smartphone_brand                  | realme                                                                                                                                                                                                           \n",
      " device_country                          | ru                                                                                                                                                                                                               \n",
      " device_language                         | ru                                                                                                                                                                                                               \n",
      " id                                      | 12345                                                                                                                                                                                                            \n",
      " ip_country                              | ru                                                                                                                                                                                                               \n",
      " is_organic                              | 1                                                                                                                                                                                                                \n",
      " platform                                | iOS                                                                                                                                                                                                              \n",
      " platform_store                          | App Store                                                                                                                                                                                                        \n",
      " smartphone_brand                        | iphone                                                                                                                                                                                                           \n",
      " ip_country_index                        | 0.0                                                                                                                                                                                                              \n",
      " device_country_index                    | 0.0                                                                                                                                                                                                              \n",
      " device_language_index                   | 0.0                                                                                                                                                                                                              \n",
      " platform_index                          | 1.0                                                                                                                                                                                                              \n",
      " platform_store_index                    | 1.0                                                                                                                                                                                                              \n",
      " smartphone_brand_index                  | 1.0                                                                                                                                                                                                              \n",
      " child_smartphone_brand_index            | 5.0                                                                                                                                                                                                              \n",
      " ip_country_vec                          | (102,[0],[1.0])                                                                                                                                                                                                  \n",
      " device_country_vec                      | (90,[0],[1.0])                                                                                                                                                                                                   \n",
      " device_language_vec                     | (44,[0],[1.0])                                                                                                                                                                                                   \n",
      " platform_vec                            | (3,[1],[1.0])                                                                                                                                                                                                    \n",
      " platform_store_vec                      | (7,[1],[1.0])                                                                                                                                                                                                    \n",
      " smartphone_brand_vec                    | (48,[1],[1.0])                                                                                                                                                                                                   \n",
      " child_smartphone_brand_vec              | (80,[5],[1.0])                                                                                                                                                                                                   \n",
      " features                                | (376,[0,102,192,237,240,247,299,374,375],[1.0,1.0,1.0,1.0,1.0,1.0,1.0,1.0,13.0])                                                                                                                                 \n",
      " scaled_features                         | (376,[0,102,192,237,240,247,299,374,375],[2.0353742047329186,2.019320555239147,2.006078082316158,2.260998181624655,2.260998181624655,2.260998181624655,4.841550594158651,2.0149658796509295,1.3332724505136844]) \n",
      " predicted_cost                          | 15.463137991766507                                                                                                                                                                                               \n",
      " predicted_subscription                  | 525.9684748297383                                                                                                                                                                                                \n",
      " predicted_function_map                  | 0.6609119133838446                                                                                                                                                                                               \n",
      " predicted_function_ignore_sound         | 0.7930214035084947                                                                                                                                                                                               \n",
      " predicted_function_listen_sound         | 0.9158330194525942                                                                                                                                                                                               \n",
      " predicted_function_detailed_routes      | 0.10991864832497697                                                                                                                                                                                              \n",
      " predicted_function_sos_signal           | 0.21396333287904926                                                                                                                                                                                              \n",
      " predicted_function_invite_second_parent | 0.8078583552994879                                                                                                                                                                                               \n",
      "\n"
     ]
    }
   ],
   "source": [
    "# Прогноз для новых данных\n",
    "real_time_predictions = processed_data\n",
    "real_time_predictions.show(truncate=False, vertical=True)"
   ]
  },
  {
   "cell_type": "code",
   "execution_count": 46,
   "id": "1b25cb2f",
   "metadata": {},
   "outputs": [
    {
     "name": "stdout",
     "output_type": "stream",
     "text": [
      "-RECORD 0---------------------------------------------------------------------------------------------------------------------------------------------------------------------------------------------------------------------------------------------------------------------\n",
      " id                                      | 12345                                                                                                                                                                                                                              \n",
      " predicted_cost                          | 15.463137991766507                                                                                                                                                                                                                 \n",
      " predicted_subscription                  | 525.9684748297383                                                                                                                                                                                                                  \n",
      " predicted_function_map                  | 0.6609119133838446                                                                                                                                                                                                                 \n",
      " predicted_function_ignore_sound         | 0.7930214035084947                                                                                                                                                                                                                 \n",
      " predicted_function_listen_sound         | 0.9158330194525942                                                                                                                                                                                                                 \n",
      " predicted_function_detailed_routes      | 0.10991864832497697                                                                                                                                                                                                                \n",
      " predicted_function_sos_signal           | 0.21396333287904926                                                                                                                                                                                                                \n",
      " predicted_function_invite_second_parent | 0.8078583552994879                                                                                                                                                                                                                 \n",
      " selected_functions                      | 10 мест на карте вместо 3, Игнорирование режима 'без звука', Послушать звук вокруг ребенка, , , Сигнал SOS                                                                                                                         \n",
      " tariff_description                      | Обязательные функции: Блокировка приложений, Защита от незнакомых звонков, Время в приложениях. Дополнительные функции: 10 мест на карте вместо 3, Игнорирование режима 'без звука', Послушать звук вокруг ребенка, , , Сигнал SOS \n",
      "\n"
     ]
    }
   ],
   "source": [
    "from pyspark.sql.functions import col, when, concat, lit\n",
    "\n",
    "\n",
    "# Map predicted functions to descriptions\n",
    "results = real_time_predictions.withColumn(\n",
    "    \"function_map\", when(col(\"predicted_function_map\") > 0.5, \"10 мест на карте вместо 3\").otherwise(\"\")\n",
    ").withColumn(\n",
    "    \"function_ignore_sound\", when(col(\"predicted_function_ignore_sound\") > 0.5, \"Игнорирование режима 'без звука'\").otherwise(\"\")\n",
    ").withColumn(\n",
    "    \"function_listen_sound\", when(col(\"predicted_function_listen_sound\") > 0.5, \"Послушать звук вокруг ребенка\").otherwise(\"\")\n",
    ").withColumn(\n",
    "    \"function_detailed_routes\", when(col(\"predicted_function_detailed_routes\") > 0.5, \"Подробная карта маршрутов\").otherwise(\"\")\n",
    ").withColumn(\n",
    "    \"function_sos_signal\", when(col(\"predicted_function_sos_signal\") > 0.5, \"Сигнал SOS\").otherwise(\"\")\n",
    ").withColumn(\n",
    "    \"function_invite_second_parent\", when(col(\"predicted_function_invite_second_parent\") > 0.5, \"Сигнал SOS\").otherwise(\"\")\n",
    ")\n",
    "\n",
    "\n",
    "# Concatenate selected functions into a single string\n",
    "results = results.withColumn(\n",
    "    \"selected_functions\",\n",
    "    concat_ws(\", \",\n",
    "        col(\"function_map\"),\n",
    "        col(\"function_ignore_sound\"),\n",
    "        col(\"function_listen_sound\"),\n",
    "        col(\"function_detailed_routes\"),\n",
    "        col(\"function_sos_signal\"),              \n",
    "        col(\"function_invite_second_parent\")\n",
    "    )\n",
    ")\n",
    "\n",
    "# Формирование поля tariff_description\n",
    "real_time_tariffs = results.withColumn(\n",
    "    \"tariff_description\",\n",
    "    when(\n",
    "        col(\"selected_functions\").isNull() | (col(\"selected_functions\") == \"\"),\n",
    "        concat(\n",
    "            lit(\"Обязательные функции: Блокировка приложений, Защита от незнакомых звонков, Время в приложениях. Дополнительные функции: \"),\n",
    "            lit(\"нет\")\n",
    "        )\n",
    "    ).otherwise(\n",
    "        concat(\n",
    "            lit(\"Обязательные функции: Блокировка приложений, Защита от незнакомых звонков, Время в приложениях. Дополнительные функции: \"),\n",
    "            col(\"selected_functions\")\n",
    "        )\n",
    "    )\n",
    ")\n",
    "\n",
    "# Вывод результата\n",
    "real_time_tariffs.select(\n",
    "    \"id\",\n",
    "    \"predicted_cost\",\n",
    "    \"predicted_subscription\",\n",
    "    \"predicted_function_map\",\n",
    "    \"predicted_function_ignore_sound\",\n",
    "    \"predicted_function_listen_sound\",\n",
    "    \"predicted_function_detailed_routes\",\n",
    "    \"predicted_function_sos_signal\",\n",
    "    \"predicted_function_invite_second_parent\",\n",
    "    \"selected_functions\",\n",
    "    \"tariff_description\"\n",
    ").show(truncate=False, vertical=True)"
   ]
  },
  {
   "cell_type": "code",
   "execution_count": null,
   "id": "8cc79f42",
   "metadata": {},
   "outputs": [],
   "source": []
  },
  {
   "cell_type": "code",
   "execution_count": 47,
   "id": "99918def",
   "metadata": {},
   "outputs": [],
   "source": [
    "spark.stop()"
   ]
  }
 ],
 "metadata": {
  "kernelspec": {
   "display_name": "Python 3",
   "language": "python",
   "name": "python3"
  },
  "language_info": {
   "codemirror_mode": {
    "name": "ipython",
    "version": 3
   },
   "file_extension": ".py",
   "mimetype": "text/x-python",
   "name": "python",
   "nbconvert_exporter": "python",
   "pygments_lexer": "ipython3",
   "version": "3.6.10"
  }
 },
 "nbformat": 4,
 "nbformat_minor": 5
}
